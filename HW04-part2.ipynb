{
 "cells": [
  {
   "cell_type": "code",
   "execution_count": 3,
   "id": "2495c7fe-5cc9-402c-a62c-80359df59237",
   "metadata": {},
   "outputs": [
    {
     "name": "stdout",
     "output_type": "stream",
     "text": [
      "Taiwan\n"
     ]
    }
   ],
   "source": [
    "#1 What is the URL to the documentation? https://www.weatherapi.com/docs/\n",
    "# Make a request for the current weather where you are born, or somewhere you've lived.\n",
    "import requests\n",
    "url = 'http://api.weatherapi.com/v1/current.json?key=dbf9f225b7a540f0ba862311231211&q=Taipei'\n",
    "response = requests.get(url)\n",
    "# print(response.text)\n",
    "data = response.json()\n",
    "# print(data.keys())\n",
    "#2 Print out the country this location is in.\n",
    "print(data['location']['country'])"
   ]
  },
  {
   "cell_type": "code",
   "execution_count": 4,
   "id": "8e36ca13-aeed-4ccc-a9d5-6866adf4b3a4",
   "metadata": {},
   "outputs": [
    {
     "name": "stdout",
     "output_type": "stream",
     "text": [
      "it feels just as it is!\n"
     ]
    }
   ],
   "source": [
    "#3 Print out the difference between the current temperature and how warm it feels. Use \"It feels ___ degrees colder\" or \"It feels ___ degrees warmer,\" not negative numbers.\n",
    "difference = data['current']['feelslike_c'] - data['current']['temp_c']\n",
    "if difference > 0:\n",
    "    print(\"It feels\", difference, \"degree warmer\")\n",
    "elif difference < 0:\n",
    "    print(\"It feels\", difference, \"degree colder\")\n",
    "else: \n",
    "    print(\"it feels just as it is!\")"
   ]
  },
  {
   "cell_type": "code",
   "execution_count": 5,
   "id": "84a16f72-c2da-407a-aeff-43f821f832db",
   "metadata": {},
   "outputs": [
    {
     "name": "stdout",
     "output_type": "stream",
     "text": [
      "It's 8.0 degree celsius at Heathrow International Airport now\n"
     ]
    }
   ],
   "source": [
    "# What's the current temperature at Heathrow International Airport? Use the airport's IATA code to search.\n",
    "url = 'http://api.weatherapi.com/v1/current.json?key=dbf9f225b7a540f0ba862311231211&q=LHR'\n",
    "response = requests.get(url)\n",
    "data = response.json()\n",
    "current_heathrow = data['current']['temp_c']\n",
    "print(f\"It's {current_heathrow} degree celsius at Heathrow International Airport now\")"
   ]
  },
  {
   "cell_type": "code",
   "execution_count": 6,
   "id": "e6c99a5f-9958-4367-864f-c0b03e0f93ef",
   "metadata": {},
   "outputs": [],
   "source": [
    "# What URL would I use to request a 3-day forecast at Heathrow? \n",
    "url = 'http://api.weatherapi.com/v1/forecast.json?key=dbf9f225b7a540f0ba862311231211&q=LHR&days=3'\n",
    "response = requests.get(url)\n",
    "data = response.json()"
   ]
  },
  {
   "cell_type": "code",
   "execution_count": 7,
   "id": "7ec9efef-fe37-40d4-9f12-d5d8b5c3e1dd",
   "metadata": {},
   "outputs": [
    {
     "name": "stdout",
     "output_type": "stream",
     "text": [
      "2023-11-12\n",
      "2023-11-13\n",
      "2023-11-14\n"
     ]
    }
   ],
   "source": [
    "# Print the date of each of the 3 days you're getting a forecast for.\n",
    "print(data['forecast']['forecastday'][0]['date'])\n",
    "print(data['forecast']['forecastday'][1]['date'])\n",
    "print(data['forecast']['forecastday'][2]['date'])"
   ]
  },
  {
   "cell_type": "code",
   "execution_count": 8,
   "id": "1155d742-2e13-4a8a-9e51-fefb54794e61",
   "metadata": {},
   "outputs": [
    {
     "name": "stdout",
     "output_type": "stream",
     "text": [
      "2023-11-12 : 10.2 degree celsius\n",
      "2023-11-13 : 15.0 degree celsius\n",
      "2023-11-14 : 13.0 degree celsius\n"
     ]
    }
   ],
   "source": [
    "# Print the maximum temperature of each of the days.\n",
    "print(data['forecast']['forecastday'][0]['date'],\":\",data['forecast']['forecastday'][0]['day']['maxtemp_c'], \"degree celsius\")\n",
    "print(data['forecast']['forecastday'][1]['date'], \":\", data['forecast']['forecastday'][1]['day']['maxtemp_c'], \"degree celsius\")\n",
    "print(data['forecast']['forecastday'][2]['date'], \":\", data['forecast']['forecastday'][2]['day']['maxtemp_c'], \"degree celsius\")"
   ]
  },
  {
   "cell_type": "code",
   "execution_count": 10,
   "id": "734b62a2-b64a-4e12-93de-ead02e2f2522",
   "metadata": {},
   "outputs": [
    {
     "name": "stdout",
     "output_type": "stream",
     "text": [
      "The highest max temperature will be 15.0 degree celsius\n"
     ]
    }
   ],
   "source": [
    "# Print only the day with the highest maximum temperature.\n",
    "maxtemps = [maxtemp_1112:= data['forecast']['forecastday'][0]['day']['maxtemp_c'],\n",
    "maxtemp_1113:= data['forecast']['forecastday'][1]['day']['maxtemp_c'],\n",
    "maxtemp_1114:= data['forecast']['forecastday'][2]['day']['maxtemp_c']]\n",
    "highest_max = max(maxtemps)\n",
    "print(f\"The highest max temperature will be {highest_max} degree celsius\")"
   ]
  }
 ],
 "metadata": {
  "kernelspec": {
   "display_name": "Python 3 (ipykernel)",
   "language": "python",
   "name": "python3"
  },
  "language_info": {
   "codemirror_mode": {
    "name": "ipython",
    "version": 3
   },
   "file_extension": ".py",
   "mimetype": "text/x-python",
   "name": "python",
   "nbconvert_exporter": "python",
   "pygments_lexer": "ipython3",
   "version": "3.11.6"
  }
 },
 "nbformat": 4,
 "nbformat_minor": 5
}
